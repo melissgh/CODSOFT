{
 "cells": [
  {
   "cell_type": "code",
   "execution_count": 250,
   "id": "8ab9400d-f7fe-425f-8d06-22e98d9cebe4",
   "metadata": {},
   "outputs": [],
   "source": [
    "import warnings\n",
    "warnings.filterwarnings(\"ignore\")"
   ]
  },
  {
   "cell_type": "code",
   "execution_count": 251,
   "id": "d1ec0cc3-9e08-4fff-b52d-d41f2714c3bb",
   "metadata": {},
   "outputs": [],
   "source": [
    "import pandas as pd\n",
    "import numpy as np"
   ]
  },
  {
   "cell_type": "code",
   "execution_count": 252,
   "id": "2dff5cdc-920f-4b3e-9466-7836072cfbbd",
   "metadata": {},
   "outputs": [],
   "source": [
    "movies=pd.read_csv(\"IMDbMoviesIndia.csv\",encoding='latin1')"
   ]
  },
  {
   "cell_type": "code",
   "execution_count": 253,
   "id": "b87c87f5-8dca-42b9-bbb1-8b3fbbef068f",
   "metadata": {},
   "outputs": [
    {
     "data": {
      "text/html": [
       "<div>\n",
       "<style scoped>\n",
       "    .dataframe tbody tr th:only-of-type {\n",
       "        vertical-align: middle;\n",
       "    }\n",
       "\n",
       "    .dataframe tbody tr th {\n",
       "        vertical-align: top;\n",
       "    }\n",
       "\n",
       "    .dataframe thead th {\n",
       "        text-align: right;\n",
       "    }\n",
       "</style>\n",
       "<table border=\"1\" class=\"dataframe\">\n",
       "  <thead>\n",
       "    <tr style=\"text-align: right;\">\n",
       "      <th></th>\n",
       "      <th>Name</th>\n",
       "      <th>Year</th>\n",
       "      <th>Duration</th>\n",
       "      <th>Genre</th>\n",
       "      <th>Rating</th>\n",
       "      <th>Votes</th>\n",
       "      <th>Director</th>\n",
       "      <th>Actor 1</th>\n",
       "      <th>Actor 2</th>\n",
       "      <th>Actor 3</th>\n",
       "    </tr>\n",
       "  </thead>\n",
       "  <tbody>\n",
       "    <tr>\n",
       "      <th>0</th>\n",
       "      <td></td>\n",
       "      <td>NaN</td>\n",
       "      <td>NaN</td>\n",
       "      <td>Drama</td>\n",
       "      <td>NaN</td>\n",
       "      <td>NaN</td>\n",
       "      <td>J.S. Randhawa</td>\n",
       "      <td>Manmauji</td>\n",
       "      <td>Birbal</td>\n",
       "      <td>Rajendra Bhatia</td>\n",
       "    </tr>\n",
       "    <tr>\n",
       "      <th>1</th>\n",
       "      <td>#Gadhvi (He thought he was Gandhi)</td>\n",
       "      <td>(2019)</td>\n",
       "      <td>109 min</td>\n",
       "      <td>Drama</td>\n",
       "      <td>7.0</td>\n",
       "      <td>8</td>\n",
       "      <td>Gaurav Bakshi</td>\n",
       "      <td>Rasika Dugal</td>\n",
       "      <td>Vivek Ghamande</td>\n",
       "      <td>Arvind Jangid</td>\n",
       "    </tr>\n",
       "    <tr>\n",
       "      <th>2</th>\n",
       "      <td>#Homecoming</td>\n",
       "      <td>(2021)</td>\n",
       "      <td>90 min</td>\n",
       "      <td>Drama, Musical</td>\n",
       "      <td>NaN</td>\n",
       "      <td>NaN</td>\n",
       "      <td>Soumyajit Majumdar</td>\n",
       "      <td>Sayani Gupta</td>\n",
       "      <td>Plabita Borthakur</td>\n",
       "      <td>Roy Angana</td>\n",
       "    </tr>\n",
       "    <tr>\n",
       "      <th>3</th>\n",
       "      <td>#Yaaram</td>\n",
       "      <td>(2019)</td>\n",
       "      <td>110 min</td>\n",
       "      <td>Comedy, Romance</td>\n",
       "      <td>4.4</td>\n",
       "      <td>35</td>\n",
       "      <td>Ovais Khan</td>\n",
       "      <td>Prateik</td>\n",
       "      <td>Ishita Raj</td>\n",
       "      <td>Siddhant Kapoor</td>\n",
       "    </tr>\n",
       "    <tr>\n",
       "      <th>4</th>\n",
       "      <td>...And Once Again</td>\n",
       "      <td>(2010)</td>\n",
       "      <td>105 min</td>\n",
       "      <td>Drama</td>\n",
       "      <td>NaN</td>\n",
       "      <td>NaN</td>\n",
       "      <td>Amol Palekar</td>\n",
       "      <td>Rajat Kapoor</td>\n",
       "      <td>Rituparna Sengupta</td>\n",
       "      <td>Antara Mali</td>\n",
       "    </tr>\n",
       "  </tbody>\n",
       "</table>\n",
       "</div>"
      ],
      "text/plain": [
       "                                 Name    Year Duration            Genre  \\\n",
       "0                                         NaN      NaN            Drama   \n",
       "1  #Gadhvi (He thought he was Gandhi)  (2019)  109 min            Drama   \n",
       "2                         #Homecoming  (2021)   90 min   Drama, Musical   \n",
       "3                             #Yaaram  (2019)  110 min  Comedy, Romance   \n",
       "4                   ...And Once Again  (2010)  105 min            Drama   \n",
       "\n",
       "   Rating Votes            Director       Actor 1             Actor 2  \\\n",
       "0     NaN   NaN       J.S. Randhawa      Manmauji              Birbal   \n",
       "1     7.0     8       Gaurav Bakshi  Rasika Dugal      Vivek Ghamande   \n",
       "2     NaN   NaN  Soumyajit Majumdar  Sayani Gupta   Plabita Borthakur   \n",
       "3     4.4    35          Ovais Khan       Prateik          Ishita Raj   \n",
       "4     NaN   NaN        Amol Palekar  Rajat Kapoor  Rituparna Sengupta   \n",
       "\n",
       "           Actor 3  \n",
       "0  Rajendra Bhatia  \n",
       "1    Arvind Jangid  \n",
       "2       Roy Angana  \n",
       "3  Siddhant Kapoor  \n",
       "4      Antara Mali  "
      ]
     },
     "execution_count": 253,
     "metadata": {},
     "output_type": "execute_result"
    }
   ],
   "source": [
    "movies.head()"
   ]
  },
  {
   "cell_type": "code",
   "execution_count": 254,
   "id": "0bd53554-24d6-4700-828e-15656c28b4f2",
   "metadata": {},
   "outputs": [
    {
     "data": {
      "text/plain": [
       "0        False\n",
       "1        False\n",
       "2        False\n",
       "3        False\n",
       "4        False\n",
       "         ...  \n",
       "15504    False\n",
       "15505    False\n",
       "15506    False\n",
       "15507    False\n",
       "15508    False\n",
       "Length: 15509, dtype: bool"
      ]
     },
     "execution_count": 254,
     "metadata": {},
     "output_type": "execute_result"
    }
   ],
   "source": [
    "movies.duplicated()"
   ]
  },
  {
   "cell_type": "code",
   "execution_count": 255,
   "id": "fd78460b-5012-43b1-a8ef-1fc2b2946c62",
   "metadata": {},
   "outputs": [
    {
     "name": "stdout",
     "output_type": "stream",
     "text": [
      "<class 'pandas.core.frame.DataFrame'>\n",
      "RangeIndex: 15509 entries, 0 to 15508\n",
      "Data columns (total 10 columns):\n",
      " #   Column    Non-Null Count  Dtype  \n",
      "---  ------    --------------  -----  \n",
      " 0   Name      15509 non-null  object \n",
      " 1   Year      14981 non-null  object \n",
      " 2   Duration  7240 non-null   object \n",
      " 3   Genre     13632 non-null  object \n",
      " 4   Rating    7919 non-null   float64\n",
      " 5   Votes     7920 non-null   object \n",
      " 6   Director  14984 non-null  object \n",
      " 7   Actor 1   13892 non-null  object \n",
      " 8   Actor 2   13125 non-null  object \n",
      " 9   Actor 3   12365 non-null  object \n",
      "dtypes: float64(1), object(9)\n",
      "memory usage: 1.2+ MB\n"
     ]
    }
   ],
   "source": [
    "movies.info()"
   ]
  },
  {
   "cell_type": "code",
   "execution_count": 256,
   "id": "9ca1edab-9eff-48d1-8162-73bfee9c11b3",
   "metadata": {},
   "outputs": [
    {
     "data": {
      "text/plain": [
       "Index(['Name', 'Year', 'Duration', 'Genre', 'Rating', 'Votes', 'Director',\n",
       "       'Actor 1', 'Actor 2', 'Actor 3'],\n",
       "      dtype='object')"
      ]
     },
     "execution_count": 256,
     "metadata": {},
     "output_type": "execute_result"
    }
   ],
   "source": [
    "movies.columns"
   ]
  },
  {
   "cell_type": "code",
   "execution_count": 257,
   "id": "9c3ea022-f745-43ba-90b8-f64cdf2394df",
   "metadata": {},
   "outputs": [
    {
     "name": "stdout",
     "output_type": "stream",
     "text": [
      "Name        13838\n",
      "Year          102\n",
      "Duration      182\n",
      "Genre         485\n",
      "Rating         84\n",
      "Votes        2034\n",
      "Director     5938\n",
      "Actor 1      4718\n",
      "Actor 2      4891\n",
      "Actor 3      4820\n",
      "dtype: int64\n"
     ]
    }
   ],
   "source": [
    "print(movies.nunique())"
   ]
  },
  {
   "cell_type": "code",
   "execution_count": 258,
   "id": "cee9f297-c16d-4f5f-8e9f-ff890b9983fa",
   "metadata": {},
   "outputs": [
    {
     "data": {
      "text/plain": [
       "Name           0\n",
       "Year         528\n",
       "Duration    8269\n",
       "Genre       1877\n",
       "Rating      7590\n",
       "Votes       7589\n",
       "Director     525\n",
       "Actor 1     1617\n",
       "Actor 2     2384\n",
       "Actor 3     3144\n",
       "dtype: int64"
      ]
     },
     "execution_count": 258,
     "metadata": {},
     "output_type": "execute_result"
    }
   ],
   "source": [
    "movies.isnull().sum()"
   ]
  },
  {
   "cell_type": "code",
   "execution_count": 259,
   "id": "76388e40-079e-4659-9cf5-989a8d1d2479",
   "metadata": {},
   "outputs": [
    {
     "data": {
      "text/plain": [
       "Genre        485\n",
       "Director    5938\n",
       "Actor 1     4718\n",
       "Actor 2     4891\n",
       "Actor 3     4820\n",
       "dtype: int64"
      ]
     },
     "execution_count": 259,
     "metadata": {},
     "output_type": "execute_result"
    }
   ],
   "source": [
    "movies[cat_col].nunique()"
   ]
  },
  {
   "cell_type": "code",
   "execution_count": 260,
   "id": "233500c1-3fe7-40d4-8990-f61811bb9d2a",
   "metadata": {},
   "outputs": [
    {
     "data": {
      "text/plain": [
       "Name         0.00\n",
       "Year         3.40\n",
       "Duration    53.32\n",
       "Genre       12.10\n",
       "Rating      48.94\n",
       "Votes       48.93\n",
       "Director     3.39\n",
       "Actor 1     10.43\n",
       "Actor 2     15.37\n",
       "Actor 3     20.27\n",
       "dtype: float64"
      ]
     },
     "execution_count": 260,
     "metadata": {},
     "output_type": "execute_result"
    }
   ],
   "source": [
    "round((movies.isnull().sum()/movies.shape[0])*100,2)"
   ]
  },
  {
   "cell_type": "code",
   "execution_count": 261,
   "id": "fa48d622-ab23-4af6-89d1-f63fcb88358d",
   "metadata": {},
   "outputs": [
    {
     "data": {
      "text/html": [
       "<div>\n",
       "<style scoped>\n",
       "    .dataframe tbody tr th:only-of-type {\n",
       "        vertical-align: middle;\n",
       "    }\n",
       "\n",
       "    .dataframe tbody tr th {\n",
       "        vertical-align: top;\n",
       "    }\n",
       "\n",
       "    .dataframe thead th {\n",
       "        text-align: right;\n",
       "    }\n",
       "</style>\n",
       "<table border=\"1\" class=\"dataframe\">\n",
       "  <thead>\n",
       "    <tr style=\"text-align: right;\">\n",
       "      <th></th>\n",
       "      <th>Rating</th>\n",
       "    </tr>\n",
       "  </thead>\n",
       "  <tbody>\n",
       "    <tr>\n",
       "      <th>count</th>\n",
       "      <td>7919.000000</td>\n",
       "    </tr>\n",
       "    <tr>\n",
       "      <th>mean</th>\n",
       "      <td>5.841621</td>\n",
       "    </tr>\n",
       "    <tr>\n",
       "      <th>std</th>\n",
       "      <td>1.381777</td>\n",
       "    </tr>\n",
       "    <tr>\n",
       "      <th>min</th>\n",
       "      <td>1.100000</td>\n",
       "    </tr>\n",
       "    <tr>\n",
       "      <th>25%</th>\n",
       "      <td>4.900000</td>\n",
       "    </tr>\n",
       "    <tr>\n",
       "      <th>50%</th>\n",
       "      <td>6.000000</td>\n",
       "    </tr>\n",
       "    <tr>\n",
       "      <th>75%</th>\n",
       "      <td>6.800000</td>\n",
       "    </tr>\n",
       "    <tr>\n",
       "      <th>max</th>\n",
       "      <td>10.000000</td>\n",
       "    </tr>\n",
       "  </tbody>\n",
       "</table>\n",
       "</div>"
      ],
      "text/plain": [
       "            Rating\n",
       "count  7919.000000\n",
       "mean      5.841621\n",
       "std       1.381777\n",
       "min       1.100000\n",
       "25%       4.900000\n",
       "50%       6.000000\n",
       "75%       6.800000\n",
       "max      10.000000"
      ]
     },
     "execution_count": 261,
     "metadata": {},
     "output_type": "execute_result"
    }
   ],
   "source": [
    "movies.describe()"
   ]
  },
  {
   "cell_type": "code",
   "execution_count": 262,
   "id": "df892842-14f3-4cc9-9a1f-d707f92c6e15",
   "metadata": {},
   "outputs": [
    {
     "data": {
      "text/plain": [
       "0        5.841621\n",
       "1        7.000000\n",
       "2        5.841621\n",
       "3        4.400000\n",
       "4        5.841621\n",
       "           ...   \n",
       "15504    4.600000\n",
       "15505    4.500000\n",
       "15506    5.841621\n",
       "15507    5.841621\n",
       "15508    6.200000\n",
       "Name: Rating, Length: 15509, dtype: float64"
      ]
     },
     "execution_count": 262,
     "metadata": {},
     "output_type": "execute_result"
    }
   ],
   "source": [
    "movies['Rating'].fillna(movies['Rating'].mean())"
   ]
  },
  {
   "cell_type": "code",
   "execution_count": 263,
   "id": "64b5c3b8-03ae-4fe0-8597-8492ff2ec936",
   "metadata": {},
   "outputs": [],
   "source": [
    "movies=movies.dropna(subset=['Year'],axis=0)\n",
    "movies=movies.dropna(subset=['Director'],axis=0)"
   ]
  },
  {
   "cell_type": "code",
   "execution_count": 264,
   "id": "a4571cd2-4899-430c-a9bf-9dcb2befd5b2",
   "metadata": {},
   "outputs": [
    {
     "data": {
      "text/plain": [
       "array(['(2019)', '(2021)', '(2010)', '(1997)', '(2005)', '(2008)',\n",
       "       '(2012)', '(2014)', '(2004)', '(2016)', '(1991)', '(1990)',\n",
       "       '(2018)', '(1987)', '(1948)', '(1958)', '(2017)', '(2020)',\n",
       "       '(2009)', '(2002)', '(1993)', '(1946)', '(1994)', '(2007)',\n",
       "       '(2013)', '(2003)', '(1998)', '(1979)', '(1951)', '(1956)',\n",
       "       '(1974)', '(2015)', '(2006)', '(1981)', '(1985)', '(2011)',\n",
       "       '(2001)', '(1967)', '(1988)', '(1995)', '(1959)', '(1996)',\n",
       "       '(1970)', '(1976)', '(2000)', '(1999)', '(1973)', '(1968)',\n",
       "       '(1943)', '(1953)', '(1986)', '(1989)', '(1982)', '(1977)',\n",
       "       '(1957)', '(1950)', '(1992)', '(1969)', '(1975)', '(1947)',\n",
       "       '(1972)', '(1971)', '(1935)', '(1978)', '(1960)', '(1944)',\n",
       "       '(1963)', '(1940)', '(1984)', '(1934)', '(1955)', '(1936)',\n",
       "       '(1980)', '(1966)', '(1949)', '(1962)', '(1964)', '(1952)',\n",
       "       '(1933)', '(1942)', '(1983)', '(1939)', '(1954)', '(1945)',\n",
       "       '(1961)', '(1965)', '(1938)', '(1941)', '(1931)', '(1937)',\n",
       "       '(2022)', '(1932)', '(1923)', '(1915)', '(1928)', '(1922)',\n",
       "       '(1917)', '(1913)', '(1930)', '(1926)', '(1914)', '(1924)'],\n",
       "      dtype=object)"
      ]
     },
     "execution_count": 264,
     "metadata": {},
     "output_type": "execute_result"
    }
   ],
   "source": [
    "movies['Year'].unique()"
   ]
  },
  {
   "cell_type": "code",
   "execution_count": 265,
   "id": "90bb72c2-38dd-441b-bcf0-f73d6ebc8f56",
   "metadata": {},
   "outputs": [
    {
     "data": {
      "text/plain": [
       "1    (2019)\n",
       "2    (2021)\n",
       "3    (2019)\n",
       "4    (2010)\n",
       "5    (1997)\n",
       "Name: Year, dtype: object"
      ]
     },
     "execution_count": 265,
     "metadata": {},
     "output_type": "execute_result"
    }
   ],
   "source": [
    "movies['Year'].head()"
   ]
  },
  {
   "cell_type": "code",
   "execution_count": 266,
   "id": "e28f1bb8-6983-413f-8584-f12a40747149",
   "metadata": {},
   "outputs": [
    {
     "data": {
      "text/html": [
       "<div>\n",
       "<style scoped>\n",
       "    .dataframe tbody tr th:only-of-type {\n",
       "        vertical-align: middle;\n",
       "    }\n",
       "\n",
       "    .dataframe tbody tr th {\n",
       "        vertical-align: top;\n",
       "    }\n",
       "\n",
       "    .dataframe thead th {\n",
       "        text-align: right;\n",
       "    }\n",
       "</style>\n",
       "<table border=\"1\" class=\"dataframe\">\n",
       "  <thead>\n",
       "    <tr style=\"text-align: right;\">\n",
       "      <th></th>\n",
       "      <th>Name</th>\n",
       "      <th>Year</th>\n",
       "      <th>Duration</th>\n",
       "      <th>Genre</th>\n",
       "      <th>Rating</th>\n",
       "      <th>Votes</th>\n",
       "      <th>Director</th>\n",
       "      <th>Actor 1</th>\n",
       "      <th>Actor 2</th>\n",
       "      <th>Actor 3</th>\n",
       "    </tr>\n",
       "  </thead>\n",
       "  <tbody>\n",
       "    <tr>\n",
       "      <th>1</th>\n",
       "      <td>#Gadhvi (He thought he was Gandhi)</td>\n",
       "      <td>2019</td>\n",
       "      <td>109 min</td>\n",
       "      <td>Drama</td>\n",
       "      <td>7.0</td>\n",
       "      <td>8</td>\n",
       "      <td>Gaurav Bakshi</td>\n",
       "      <td>Rasika Dugal</td>\n",
       "      <td>Vivek Ghamande</td>\n",
       "      <td>Arvind Jangid</td>\n",
       "    </tr>\n",
       "    <tr>\n",
       "      <th>2</th>\n",
       "      <td>#Homecoming</td>\n",
       "      <td>2021</td>\n",
       "      <td>90 min</td>\n",
       "      <td>Drama, Musical</td>\n",
       "      <td>NaN</td>\n",
       "      <td>NaN</td>\n",
       "      <td>Soumyajit Majumdar</td>\n",
       "      <td>Sayani Gupta</td>\n",
       "      <td>Plabita Borthakur</td>\n",
       "      <td>Roy Angana</td>\n",
       "    </tr>\n",
       "    <tr>\n",
       "      <th>3</th>\n",
       "      <td>#Yaaram</td>\n",
       "      <td>2019</td>\n",
       "      <td>110 min</td>\n",
       "      <td>Comedy, Romance</td>\n",
       "      <td>4.4</td>\n",
       "      <td>35</td>\n",
       "      <td>Ovais Khan</td>\n",
       "      <td>Prateik</td>\n",
       "      <td>Ishita Raj</td>\n",
       "      <td>Siddhant Kapoor</td>\n",
       "    </tr>\n",
       "    <tr>\n",
       "      <th>4</th>\n",
       "      <td>...And Once Again</td>\n",
       "      <td>2010</td>\n",
       "      <td>105 min</td>\n",
       "      <td>Drama</td>\n",
       "      <td>NaN</td>\n",
       "      <td>NaN</td>\n",
       "      <td>Amol Palekar</td>\n",
       "      <td>Rajat Kapoor</td>\n",
       "      <td>Rituparna Sengupta</td>\n",
       "      <td>Antara Mali</td>\n",
       "    </tr>\n",
       "    <tr>\n",
       "      <th>5</th>\n",
       "      <td>...Aur Pyaar Ho Gaya</td>\n",
       "      <td>1997</td>\n",
       "      <td>147 min</td>\n",
       "      <td>Comedy, Drama, Musical</td>\n",
       "      <td>4.7</td>\n",
       "      <td>827</td>\n",
       "      <td>Rahul Rawail</td>\n",
       "      <td>Bobby Deol</td>\n",
       "      <td>Aishwarya Rai Bachchan</td>\n",
       "      <td>Shammi Kapoor</td>\n",
       "    </tr>\n",
       "  </tbody>\n",
       "</table>\n",
       "</div>"
      ],
      "text/plain": [
       "                                 Name  Year Duration                   Genre  \\\n",
       "1  #Gadhvi (He thought he was Gandhi)  2019  109 min                   Drama   \n",
       "2                         #Homecoming  2021   90 min          Drama, Musical   \n",
       "3                             #Yaaram  2019  110 min         Comedy, Romance   \n",
       "4                   ...And Once Again  2010  105 min                   Drama   \n",
       "5                ...Aur Pyaar Ho Gaya  1997  147 min  Comedy, Drama, Musical   \n",
       "\n",
       "   Rating Votes            Director       Actor 1                 Actor 2  \\\n",
       "1     7.0     8       Gaurav Bakshi  Rasika Dugal          Vivek Ghamande   \n",
       "2     NaN   NaN  Soumyajit Majumdar  Sayani Gupta       Plabita Borthakur   \n",
       "3     4.4    35          Ovais Khan       Prateik              Ishita Raj   \n",
       "4     NaN   NaN        Amol Palekar  Rajat Kapoor      Rituparna Sengupta   \n",
       "5     4.7   827        Rahul Rawail    Bobby Deol  Aishwarya Rai Bachchan   \n",
       "\n",
       "           Actor 3  \n",
       "1    Arvind Jangid  \n",
       "2       Roy Angana  \n",
       "3  Siddhant Kapoor  \n",
       "4      Antara Mali  \n",
       "5    Shammi Kapoor  "
      ]
     },
     "execution_count": 266,
     "metadata": {},
     "output_type": "execute_result"
    }
   ],
   "source": [
    "movies['Year'] = movies['Year'].str.replace('(', '', regex=False).str.replace(')', '', regex=False).astype(int)\n",
    "\n",
    "movies.head()"
   ]
  },
  {
   "cell_type": "code",
   "execution_count": 267,
   "id": "a9aa2cac-dd20-49b5-8692-11a345930a98",
   "metadata": {},
   "outputs": [
    {
     "name": "stdout",
     "output_type": "stream",
     "text": [
      "Numerical columns : ['Year', 'Rating']\n"
     ]
    }
   ],
   "source": [
    "# numerical columns \n",
    "num_col = [col for col in movies.columns if movies[col].dtype != 'object'] \n",
    "print('Numerical columns :',num_col)"
   ]
  },
  {
   "cell_type": "code",
   "execution_count": 268,
   "id": "2edae790-15c7-4238-bb78-fd8555d3edb9",
   "metadata": {},
   "outputs": [],
   "source": [
    "movies[\"Duration\"] = movies.loc[:,\"Duration\"].str.replace(\" min\",\"\")\n",
    "movies[\"Duration\"] = pd.to_numeric(movies.loc[:,\"Duration\"])"
   ]
  },
  {
   "cell_type": "code",
   "execution_count": 269,
   "id": "8ff630ee-2cb6-4332-beeb-8a37f31738d0",
   "metadata": {},
   "outputs": [
    {
     "data": {
      "text/html": [
       "<div>\n",
       "<style scoped>\n",
       "    .dataframe tbody tr th:only-of-type {\n",
       "        vertical-align: middle;\n",
       "    }\n",
       "\n",
       "    .dataframe tbody tr th {\n",
       "        vertical-align: top;\n",
       "    }\n",
       "\n",
       "    .dataframe thead th {\n",
       "        text-align: right;\n",
       "    }\n",
       "</style>\n",
       "<table border=\"1\" class=\"dataframe\">\n",
       "  <thead>\n",
       "    <tr style=\"text-align: right;\">\n",
       "      <th></th>\n",
       "      <th>Year</th>\n",
       "      <th>Duration</th>\n",
       "      <th>Genre</th>\n",
       "      <th>Rating</th>\n",
       "      <th>Votes</th>\n",
       "      <th>Director</th>\n",
       "      <th>Actor 1</th>\n",
       "      <th>Actor 2</th>\n",
       "      <th>Actor 3</th>\n",
       "    </tr>\n",
       "  </thead>\n",
       "  <tbody>\n",
       "    <tr>\n",
       "      <th>1</th>\n",
       "      <td>2019</td>\n",
       "      <td>109.0</td>\n",
       "      <td>Drama</td>\n",
       "      <td>7.0</td>\n",
       "      <td>8</td>\n",
       "      <td>Gaurav Bakshi</td>\n",
       "      <td>Rasika Dugal</td>\n",
       "      <td>Vivek Ghamande</td>\n",
       "      <td>Arvind Jangid</td>\n",
       "    </tr>\n",
       "    <tr>\n",
       "      <th>2</th>\n",
       "      <td>2021</td>\n",
       "      <td>90.0</td>\n",
       "      <td>Drama, Musical</td>\n",
       "      <td>NaN</td>\n",
       "      <td>NaN</td>\n",
       "      <td>Soumyajit Majumdar</td>\n",
       "      <td>Sayani Gupta</td>\n",
       "      <td>Plabita Borthakur</td>\n",
       "      <td>Roy Angana</td>\n",
       "    </tr>\n",
       "    <tr>\n",
       "      <th>3</th>\n",
       "      <td>2019</td>\n",
       "      <td>110.0</td>\n",
       "      <td>Comedy, Romance</td>\n",
       "      <td>4.4</td>\n",
       "      <td>35</td>\n",
       "      <td>Ovais Khan</td>\n",
       "      <td>Prateik</td>\n",
       "      <td>Ishita Raj</td>\n",
       "      <td>Siddhant Kapoor</td>\n",
       "    </tr>\n",
       "    <tr>\n",
       "      <th>4</th>\n",
       "      <td>2010</td>\n",
       "      <td>105.0</td>\n",
       "      <td>Drama</td>\n",
       "      <td>NaN</td>\n",
       "      <td>NaN</td>\n",
       "      <td>Amol Palekar</td>\n",
       "      <td>Rajat Kapoor</td>\n",
       "      <td>Rituparna Sengupta</td>\n",
       "      <td>Antara Mali</td>\n",
       "    </tr>\n",
       "    <tr>\n",
       "      <th>5</th>\n",
       "      <td>1997</td>\n",
       "      <td>147.0</td>\n",
       "      <td>Comedy, Drama, Musical</td>\n",
       "      <td>4.7</td>\n",
       "      <td>827</td>\n",
       "      <td>Rahul Rawail</td>\n",
       "      <td>Bobby Deol</td>\n",
       "      <td>Aishwarya Rai Bachchan</td>\n",
       "      <td>Shammi Kapoor</td>\n",
       "    </tr>\n",
       "  </tbody>\n",
       "</table>\n",
       "</div>"
      ],
      "text/plain": [
       "   Year  Duration                   Genre  Rating Votes            Director  \\\n",
       "1  2019     109.0                   Drama     7.0     8       Gaurav Bakshi   \n",
       "2  2021      90.0          Drama, Musical     NaN   NaN  Soumyajit Majumdar   \n",
       "3  2019     110.0         Comedy, Romance     4.4    35          Ovais Khan   \n",
       "4  2010     105.0                   Drama     NaN   NaN        Amol Palekar   \n",
       "5  1997     147.0  Comedy, Drama, Musical     4.7   827        Rahul Rawail   \n",
       "\n",
       "        Actor 1                 Actor 2          Actor 3  \n",
       "1  Rasika Dugal          Vivek Ghamande    Arvind Jangid  \n",
       "2  Sayani Gupta       Plabita Borthakur       Roy Angana  \n",
       "3       Prateik              Ishita Raj  Siddhant Kapoor  \n",
       "4  Rajat Kapoor      Rituparna Sengupta      Antara Mali  \n",
       "5    Bobby Deol  Aishwarya Rai Bachchan    Shammi Kapoor  "
      ]
     },
     "execution_count": 269,
     "metadata": {},
     "output_type": "execute_result"
    }
   ],
   "source": [
    "#dropping statistically insignificant columns\n",
    "movies.drop(columns=['Name'],axis=1,inplace=True)\n",
    "movies.head()"
   ]
  },
  {
   "cell_type": "code",
   "execution_count": 270,
   "id": "0cd899c1-a7cf-4564-8215-1e806d58f916",
   "metadata": {},
   "outputs": [
    {
     "data": {
      "text/plain": [
       "(14484, 9)"
      ]
     },
     "execution_count": 270,
     "metadata": {},
     "output_type": "execute_result"
    }
   ],
   "source": [
    "movies.shape"
   ]
  },
  {
   "cell_type": "code",
   "execution_count": 271,
   "id": "847188c8-1726-4af4-a0a6-77d4ed98931e",
   "metadata": {},
   "outputs": [
    {
     "data": {
      "text/plain": [
       "66"
      ]
     },
     "execution_count": 271,
     "metadata": {},
     "output_type": "execute_result"
    }
   ],
   "source": [
    "movies.duplicated().sum()"
   ]
  },
  {
   "cell_type": "code",
   "execution_count": 272,
   "id": "5c179e38-8b73-4959-88f0-b3bdd4898756",
   "metadata": {},
   "outputs": [
    {
     "data": {
      "text/plain": [
       "0"
      ]
     },
     "execution_count": 272,
     "metadata": {},
     "output_type": "execute_result"
    }
   ],
   "source": [
    "movies.drop_duplicates(inplace=True)\n",
    "movies.duplicated().sum()"
   ]
  },
  {
   "cell_type": "code",
   "execution_count": 273,
   "id": "0d3a6051-f0fe-43fc-8a2c-8e295d8f5cb4",
   "metadata": {},
   "outputs": [
    {
     "data": {
      "text/plain": [
       "Year           0\n",
       "Duration    7317\n",
       "Genre       1791\n",
       "Rating      6505\n",
       "Votes       6504\n",
       "Director       0\n",
       "Actor 1      936\n",
       "Actor 2     1641\n",
       "Actor 3     2349\n",
       "dtype: int64"
      ]
     },
     "execution_count": 273,
     "metadata": {},
     "output_type": "execute_result"
    }
   ],
   "source": [
    "movies.isna().sum()\n"
   ]
  },
  {
   "cell_type": "code",
   "execution_count": 274,
   "id": "0cb99221-2ab0-4f83-9041-b70e3b5d8523",
   "metadata": {},
   "outputs": [],
   "source": [
    "mean = movies['Rating'].mean()\n",
    "movies['Rating'].fillna(mean,inplace=True)"
   ]
  },
  {
   "cell_type": "code",
   "execution_count": 275,
   "id": "798997f3-2fb8-433d-a5aa-10d74aa1a175",
   "metadata": {},
   "outputs": [
    {
     "data": {
      "text/plain": [
       "Year           0\n",
       "Duration    7317\n",
       "Genre       1791\n",
       "Rating         0\n",
       "Votes       6504\n",
       "Director       0\n",
       "Actor 1      936\n",
       "Actor 2     1641\n",
       "Actor 3     2349\n",
       "dtype: int64"
      ]
     },
     "execution_count": 275,
     "metadata": {},
     "output_type": "execute_result"
    }
   ],
   "source": [
    "movies.isna().sum()"
   ]
  },
  {
   "cell_type": "code",
   "execution_count": 276,
   "id": "d8fe8aff-dcd5-421f-a643-d8ef54725b90",
   "metadata": {},
   "outputs": [],
   "source": [
    "movies= movies.dropna(subset=[\"Genre\",\"Actor 1\",\"Actor 2\",\"Actor 3\",'Votes'])"
   ]
  },
  {
   "cell_type": "code",
   "execution_count": 277,
   "id": "05a640ad-79c4-40b0-ad81-697b49affbab",
   "metadata": {},
   "outputs": [
    {
     "data": {
      "text/plain": [
       "Year           0\n",
       "Duration    1900\n",
       "Genre          0\n",
       "Rating         0\n",
       "Votes          0\n",
       "Director       0\n",
       "Actor 1        0\n",
       "Actor 2        0\n",
       "Actor 3        0\n",
       "dtype: int64"
      ]
     },
     "execution_count": 277,
     "metadata": {},
     "output_type": "execute_result"
    }
   ],
   "source": [
    "movies.isna().sum()"
   ]
  },
  {
   "cell_type": "code",
   "execution_count": 278,
   "id": "21a256c3-cf93-46fd-9995-e627dc91eeda",
   "metadata": {},
   "outputs": [
    {
     "data": {
      "text/plain": [
       "1        8\n",
       "3       35\n",
       "5      827\n",
       "6    1,086\n",
       "8      326\n",
       "Name: Votes, dtype: object"
      ]
     },
     "execution_count": 278,
     "metadata": {},
     "output_type": "execute_result"
    }
   ],
   "source": [
    "movies['Votes'].head()"
   ]
  },
  {
   "cell_type": "code",
   "execution_count": 279,
   "id": "ef40cb2d-1178-4339-868d-b21c7774980c",
   "metadata": {},
   "outputs": [
    {
     "data": {
      "text/plain": [
       "array(['8', '35', '827', ..., '70,344', '408', '1,496'], dtype=object)"
      ]
     },
     "execution_count": 279,
     "metadata": {},
     "output_type": "execute_result"
    }
   ],
   "source": [
    "movies['Votes'].unique()"
   ]
  },
  {
   "cell_type": "code",
   "execution_count": 280,
   "id": "02af6eb8-b7b8-4487-b8eb-28657f456f5e",
   "metadata": {},
   "outputs": [],
   "source": [
    "# function to clean the Votes column\n",
    "def clean_votes(votes):\n",
    "    if 'M' in votes:\n",
    "        # Remove the dollar sign and 'M', then convert to float and scale\n",
    "        return float(votes.replace('$', '').replace('M', '')) * 1_000_000\n",
    "    else:\n",
    "        return int(votes.replace(',', ''))\n",
    "\n",
    "# apply the cleaning function\n",
    "movies['Votes'] = movies['Votes'].apply(clean_votes)\n",
    "\n",
    "# convert to numeric\n",
    "movies['Votes'] = pd.to_numeric(movies['Votes'])"
   ]
  },
  {
   "cell_type": "code",
   "execution_count": 281,
   "id": "e85a7ae2-e25f-4d06-8c08-d1521f0550fe",
   "metadata": {},
   "outputs": [
    {
     "name": "stdout",
     "output_type": "stream",
     "text": [
      "Categorical columns : ['Genre', 'Director', 'Actor 1', 'Actor 2', 'Actor 3']\n"
     ]
    }
   ],
   "source": [
    "# categorical columns \n",
    "cat_col = [col for col in movies.columns if movies[col].dtype == 'object'] \n",
    "print('Categorical columns :',cat_col) "
   ]
  },
  {
   "cell_type": "code",
   "execution_count": 282,
   "id": "177650d2-5fa3-463f-963b-8b11230654b0",
   "metadata": {},
   "outputs": [
    {
     "data": {
      "text/html": [
       "<div>\n",
       "<style scoped>\n",
       "    .dataframe tbody tr th:only-of-type {\n",
       "        vertical-align: middle;\n",
       "    }\n",
       "\n",
       "    .dataframe tbody tr th {\n",
       "        vertical-align: top;\n",
       "    }\n",
       "\n",
       "    .dataframe thead th {\n",
       "        text-align: right;\n",
       "    }\n",
       "</style>\n",
       "<table border=\"1\" class=\"dataframe\">\n",
       "  <thead>\n",
       "    <tr style=\"text-align: right;\">\n",
       "      <th></th>\n",
       "      <th>Year</th>\n",
       "      <th>Duration</th>\n",
       "      <th>Genre</th>\n",
       "      <th>Rating</th>\n",
       "      <th>Votes</th>\n",
       "      <th>Director</th>\n",
       "      <th>Actor 1</th>\n",
       "      <th>Actor 2</th>\n",
       "      <th>Actor 3</th>\n",
       "    </tr>\n",
       "  </thead>\n",
       "  <tbody>\n",
       "    <tr>\n",
       "      <th>1</th>\n",
       "      <td>2019</td>\n",
       "      <td>109.0</td>\n",
       "      <td>Drama</td>\n",
       "      <td>7.0</td>\n",
       "      <td>8.0</td>\n",
       "      <td>Gaurav Bakshi</td>\n",
       "      <td>Rasika Dugal</td>\n",
       "      <td>Vivek Ghamande</td>\n",
       "      <td>Arvind Jangid</td>\n",
       "    </tr>\n",
       "    <tr>\n",
       "      <th>3</th>\n",
       "      <td>2019</td>\n",
       "      <td>110.0</td>\n",
       "      <td>Comedy, Romance</td>\n",
       "      <td>4.4</td>\n",
       "      <td>35.0</td>\n",
       "      <td>Ovais Khan</td>\n",
       "      <td>Prateik</td>\n",
       "      <td>Ishita Raj</td>\n",
       "      <td>Siddhant Kapoor</td>\n",
       "    </tr>\n",
       "    <tr>\n",
       "      <th>5</th>\n",
       "      <td>1997</td>\n",
       "      <td>147.0</td>\n",
       "      <td>Comedy, Drama, Musical</td>\n",
       "      <td>4.7</td>\n",
       "      <td>827.0</td>\n",
       "      <td>Rahul Rawail</td>\n",
       "      <td>Bobby Deol</td>\n",
       "      <td>Aishwarya Rai Bachchan</td>\n",
       "      <td>Shammi Kapoor</td>\n",
       "    </tr>\n",
       "    <tr>\n",
       "      <th>6</th>\n",
       "      <td>2005</td>\n",
       "      <td>142.0</td>\n",
       "      <td>Drama, Romance, War</td>\n",
       "      <td>7.4</td>\n",
       "      <td>1086.0</td>\n",
       "      <td>Shoojit Sircar</td>\n",
       "      <td>Jimmy Sheirgill</td>\n",
       "      <td>Minissha Lamba</td>\n",
       "      <td>Yashpal Sharma</td>\n",
       "    </tr>\n",
       "    <tr>\n",
       "      <th>8</th>\n",
       "      <td>2012</td>\n",
       "      <td>82.0</td>\n",
       "      <td>Horror, Mystery, Thriller</td>\n",
       "      <td>5.6</td>\n",
       "      <td>326.0</td>\n",
       "      <td>Allyson Patel</td>\n",
       "      <td>Yash Dave</td>\n",
       "      <td>Muntazir Ahmad</td>\n",
       "      <td>Kiran Bhatia</td>\n",
       "    </tr>\n",
       "  </tbody>\n",
       "</table>\n",
       "</div>"
      ],
      "text/plain": [
       "   Year  Duration                      Genre  Rating   Votes        Director  \\\n",
       "1  2019     109.0                      Drama     7.0     8.0   Gaurav Bakshi   \n",
       "3  2019     110.0            Comedy, Romance     4.4    35.0      Ovais Khan   \n",
       "5  1997     147.0     Comedy, Drama, Musical     4.7   827.0    Rahul Rawail   \n",
       "6  2005     142.0        Drama, Romance, War     7.4  1086.0  Shoojit Sircar   \n",
       "8  2012      82.0  Horror, Mystery, Thriller     5.6   326.0   Allyson Patel   \n",
       "\n",
       "           Actor 1                 Actor 2          Actor 3  \n",
       "1     Rasika Dugal          Vivek Ghamande    Arvind Jangid  \n",
       "3          Prateik              Ishita Raj  Siddhant Kapoor  \n",
       "5       Bobby Deol  Aishwarya Rai Bachchan    Shammi Kapoor  \n",
       "6  Jimmy Sheirgill          Minissha Lamba   Yashpal Sharma  \n",
       "8        Yash Dave          Muntazir Ahmad     Kiran Bhatia  "
      ]
     },
     "execution_count": 282,
     "metadata": {},
     "output_type": "execute_result"
    }
   ],
   "source": [
    "movies.head()"
   ]
  },
  {
   "cell_type": "code",
   "execution_count": 283,
   "id": "781dc520-1200-492f-a842-b3eabf62cdb6",
   "metadata": {},
   "outputs": [
    {
     "name": "stdout",
     "output_type": "stream",
     "text": [
      "Requirement already satisfied: category_encoders in c:\\users\\elitebook\\anaconda3\\lib\\site-packages (2.6.3)\n",
      "Requirement already satisfied: numpy>=1.14.0 in c:\\users\\elitebook\\anaconda3\\lib\\site-packages (from category_encoders) (1.26.4)\n",
      "Requirement already satisfied: scikit-learn>=0.20.0 in c:\\users\\elitebook\\anaconda3\\lib\\site-packages (from category_encoders) (1.4.2)\n",
      "Requirement already satisfied: scipy>=1.0.0 in c:\\users\\elitebook\\anaconda3\\lib\\site-packages (from category_encoders) (1.13.1)\n",
      "Requirement already satisfied: statsmodels>=0.9.0 in c:\\users\\elitebook\\anaconda3\\lib\\site-packages (from category_encoders) (0.14.2)\n",
      "Requirement already satisfied: pandas>=1.0.5 in c:\\users\\elitebook\\anaconda3\\lib\\site-packages (from category_encoders) (2.2.2)\n",
      "Requirement already satisfied: patsy>=0.5.1 in c:\\users\\elitebook\\anaconda3\\lib\\site-packages (from category_encoders) (0.5.6)\n",
      "Requirement already satisfied: python-dateutil>=2.8.2 in c:\\users\\elitebook\\anaconda3\\lib\\site-packages (from pandas>=1.0.5->category_encoders) (2.9.0.post0)\n",
      "Requirement already satisfied: pytz>=2020.1 in c:\\users\\elitebook\\anaconda3\\lib\\site-packages (from pandas>=1.0.5->category_encoders) (2024.1)\n",
      "Requirement already satisfied: tzdata>=2022.7 in c:\\users\\elitebook\\anaconda3\\lib\\site-packages (from pandas>=1.0.5->category_encoders) (2023.3)\n",
      "Requirement already satisfied: six in c:\\users\\elitebook\\anaconda3\\lib\\site-packages (from patsy>=0.5.1->category_encoders) (1.16.0)\n",
      "Requirement already satisfied: joblib>=1.2.0 in c:\\users\\elitebook\\anaconda3\\lib\\site-packages (from scikit-learn>=0.20.0->category_encoders) (1.4.2)\n",
      "Requirement already satisfied: threadpoolctl>=2.0.0 in c:\\users\\elitebook\\anaconda3\\lib\\site-packages (from scikit-learn>=0.20.0->category_encoders) (2.2.0)\n",
      "Requirement already satisfied: packaging>=21.3 in c:\\users\\elitebook\\anaconda3\\lib\\site-packages (from statsmodels>=0.9.0->category_encoders) (23.2)\n"
     ]
    }
   ],
   "source": [
    "!pip install category_encoders"
   ]
  },
  {
   "cell_type": "code",
   "execution_count": 284,
   "id": "723c996c-fdf6-4e59-82e3-4637316180f3",
   "metadata": {},
   "outputs": [],
   "source": [
    "#encoding data using JamesSteinEncoder\n",
    "import category_encoders as ce\n",
    "encoder = ce.JamesSteinEncoder(return_df=True)"
   ]
  },
  {
   "cell_type": "code",
   "execution_count": 285,
   "id": "86f31b45-d73b-4c78-9fc2-6880404cabc6",
   "metadata": {},
   "outputs": [],
   "source": [
    "X = movies.drop(columns=\"Rating\")\n",
    "y = movies[\"Rating\"]"
   ]
  },
  {
   "cell_type": "code",
   "execution_count": 286,
   "id": "24224bec-1152-4e3a-8d9f-259815633a35",
   "metadata": {},
   "outputs": [
    {
     "data": {
      "text/plain": [
       "1    7.0\n",
       "3    4.4\n",
       "5    4.7\n",
       "6    7.4\n",
       "8    5.6\n",
       "Name: Rating, dtype: float64"
      ]
     },
     "execution_count": 286,
     "metadata": {},
     "output_type": "execute_result"
    }
   ],
   "source": [
    "y.head()"
   ]
  },
  {
   "cell_type": "code",
   "execution_count": 287,
   "id": "21a1b03b-6d75-4cb9-bf26-c3c7b0ae68aa",
   "metadata": {},
   "outputs": [
    {
     "data": {
      "text/html": [
       "<div>\n",
       "<style scoped>\n",
       "    .dataframe tbody tr th:only-of-type {\n",
       "        vertical-align: middle;\n",
       "    }\n",
       "\n",
       "    .dataframe tbody tr th {\n",
       "        vertical-align: top;\n",
       "    }\n",
       "\n",
       "    .dataframe thead th {\n",
       "        text-align: right;\n",
       "    }\n",
       "</style>\n",
       "<table border=\"1\" class=\"dataframe\">\n",
       "  <thead>\n",
       "    <tr style=\"text-align: right;\">\n",
       "      <th></th>\n",
       "      <th>Year</th>\n",
       "      <th>Duration</th>\n",
       "      <th>Genre</th>\n",
       "      <th>Votes</th>\n",
       "      <th>Director</th>\n",
       "      <th>Actor 1</th>\n",
       "      <th>Actor 2</th>\n",
       "      <th>Actor 3</th>\n",
       "    </tr>\n",
       "  </thead>\n",
       "  <tbody>\n",
       "    <tr>\n",
       "      <th>1</th>\n",
       "      <td>2019</td>\n",
       "      <td>109.0</td>\n",
       "      <td>Drama</td>\n",
       "      <td>8.0</td>\n",
       "      <td>Gaurav Bakshi</td>\n",
       "      <td>Rasika Dugal</td>\n",
       "      <td>Vivek Ghamande</td>\n",
       "      <td>Arvind Jangid</td>\n",
       "    </tr>\n",
       "    <tr>\n",
       "      <th>3</th>\n",
       "      <td>2019</td>\n",
       "      <td>110.0</td>\n",
       "      <td>Comedy, Romance</td>\n",
       "      <td>35.0</td>\n",
       "      <td>Ovais Khan</td>\n",
       "      <td>Prateik</td>\n",
       "      <td>Ishita Raj</td>\n",
       "      <td>Siddhant Kapoor</td>\n",
       "    </tr>\n",
       "    <tr>\n",
       "      <th>5</th>\n",
       "      <td>1997</td>\n",
       "      <td>147.0</td>\n",
       "      <td>Comedy, Drama, Musical</td>\n",
       "      <td>827.0</td>\n",
       "      <td>Rahul Rawail</td>\n",
       "      <td>Bobby Deol</td>\n",
       "      <td>Aishwarya Rai Bachchan</td>\n",
       "      <td>Shammi Kapoor</td>\n",
       "    </tr>\n",
       "    <tr>\n",
       "      <th>6</th>\n",
       "      <td>2005</td>\n",
       "      <td>142.0</td>\n",
       "      <td>Drama, Romance, War</td>\n",
       "      <td>1086.0</td>\n",
       "      <td>Shoojit Sircar</td>\n",
       "      <td>Jimmy Sheirgill</td>\n",
       "      <td>Minissha Lamba</td>\n",
       "      <td>Yashpal Sharma</td>\n",
       "    </tr>\n",
       "    <tr>\n",
       "      <th>8</th>\n",
       "      <td>2012</td>\n",
       "      <td>82.0</td>\n",
       "      <td>Horror, Mystery, Thriller</td>\n",
       "      <td>326.0</td>\n",
       "      <td>Allyson Patel</td>\n",
       "      <td>Yash Dave</td>\n",
       "      <td>Muntazir Ahmad</td>\n",
       "      <td>Kiran Bhatia</td>\n",
       "    </tr>\n",
       "  </tbody>\n",
       "</table>\n",
       "</div>"
      ],
      "text/plain": [
       "   Year  Duration                      Genre   Votes        Director  \\\n",
       "1  2019     109.0                      Drama     8.0   Gaurav Bakshi   \n",
       "3  2019     110.0            Comedy, Romance    35.0      Ovais Khan   \n",
       "5  1997     147.0     Comedy, Drama, Musical   827.0    Rahul Rawail   \n",
       "6  2005     142.0        Drama, Romance, War  1086.0  Shoojit Sircar   \n",
       "8  2012      82.0  Horror, Mystery, Thriller   326.0   Allyson Patel   \n",
       "\n",
       "           Actor 1                 Actor 2          Actor 3  \n",
       "1     Rasika Dugal          Vivek Ghamande    Arvind Jangid  \n",
       "3          Prateik              Ishita Raj  Siddhant Kapoor  \n",
       "5       Bobby Deol  Aishwarya Rai Bachchan    Shammi Kapoor  \n",
       "6  Jimmy Sheirgill          Minissha Lamba   Yashpal Sharma  \n",
       "8        Yash Dave          Muntazir Ahmad     Kiran Bhatia  "
      ]
     },
     "execution_count": 287,
     "metadata": {},
     "output_type": "execute_result"
    }
   ],
   "source": [
    "X.head()"
   ]
  },
  {
   "cell_type": "code",
   "execution_count": 288,
   "id": "488f9a18-8e63-42eb-a9f7-257dcfb7c714",
   "metadata": {},
   "outputs": [],
   "source": [
    "encoder.fit(X,y)\n",
    "X = encoder.transform(X.loc[:,:])"
   ]
  },
  {
   "cell_type": "code",
   "execution_count": 289,
   "id": "d835d0fb-d034-4e21-8cc7-0dfee91f9aa5",
   "metadata": {},
   "outputs": [
    {
     "data": {
      "text/html": [
       "<div>\n",
       "<style scoped>\n",
       "    .dataframe tbody tr th:only-of-type {\n",
       "        vertical-align: middle;\n",
       "    }\n",
       "\n",
       "    .dataframe tbody tr th {\n",
       "        vertical-align: top;\n",
       "    }\n",
       "\n",
       "    .dataframe thead th {\n",
       "        text-align: right;\n",
       "    }\n",
       "</style>\n",
       "<table border=\"1\" class=\"dataframe\">\n",
       "  <thead>\n",
       "    <tr style=\"text-align: right;\">\n",
       "      <th></th>\n",
       "      <th>Year</th>\n",
       "      <th>Duration</th>\n",
       "      <th>Genre</th>\n",
       "      <th>Votes</th>\n",
       "      <th>Director</th>\n",
       "      <th>Actor 1</th>\n",
       "      <th>Actor 2</th>\n",
       "      <th>Actor 3</th>\n",
       "    </tr>\n",
       "  </thead>\n",
       "  <tbody>\n",
       "    <tr>\n",
       "      <th>1</th>\n",
       "      <td>2019</td>\n",
       "      <td>109.0</td>\n",
       "      <td>6.106610</td>\n",
       "      <td>8.0</td>\n",
       "      <td>7.000000</td>\n",
       "      <td>6.825632</td>\n",
       "      <td>7.000000</td>\n",
       "      <td>7.000000</td>\n",
       "    </tr>\n",
       "    <tr>\n",
       "      <th>3</th>\n",
       "      <td>2019</td>\n",
       "      <td>110.0</td>\n",
       "      <td>5.752140</td>\n",
       "      <td>35.0</td>\n",
       "      <td>4.400000</td>\n",
       "      <td>5.569284</td>\n",
       "      <td>4.400000</td>\n",
       "      <td>4.453624</td>\n",
       "    </tr>\n",
       "    <tr>\n",
       "      <th>5</th>\n",
       "      <td>1997</td>\n",
       "      <td>147.0</td>\n",
       "      <td>6.041448</td>\n",
       "      <td>827.0</td>\n",
       "      <td>5.563119</td>\n",
       "      <td>5.212804</td>\n",
       "      <td>5.799571</td>\n",
       "      <td>5.787568</td>\n",
       "    </tr>\n",
       "    <tr>\n",
       "      <th>6</th>\n",
       "      <td>2005</td>\n",
       "      <td>142.0</td>\n",
       "      <td>6.370565</td>\n",
       "      <td>1086.0</td>\n",
       "      <td>7.236278</td>\n",
       "      <td>5.531866</td>\n",
       "      <td>5.894946</td>\n",
       "      <td>6.164453</td>\n",
       "    </tr>\n",
       "    <tr>\n",
       "      <th>8</th>\n",
       "      <td>2012</td>\n",
       "      <td>82.0</td>\n",
       "      <td>5.644507</td>\n",
       "      <td>326.0</td>\n",
       "      <td>5.600000</td>\n",
       "      <td>5.600000</td>\n",
       "      <td>5.839763</td>\n",
       "      <td>5.600000</td>\n",
       "    </tr>\n",
       "    <tr>\n",
       "      <th>...</th>\n",
       "      <td>...</td>\n",
       "      <td>...</td>\n",
       "      <td>...</td>\n",
       "      <td>...</td>\n",
       "      <td>...</td>\n",
       "      <td>...</td>\n",
       "      <td>...</td>\n",
       "      <td>...</td>\n",
       "    </tr>\n",
       "    <tr>\n",
       "      <th>15501</th>\n",
       "      <td>1992</td>\n",
       "      <td>NaN</td>\n",
       "      <td>5.705772</td>\n",
       "      <td>135.0</td>\n",
       "      <td>5.610877</td>\n",
       "      <td>5.771331</td>\n",
       "      <td>5.998089</td>\n",
       "      <td>5.148281</td>\n",
       "    </tr>\n",
       "    <tr>\n",
       "      <th>15503</th>\n",
       "      <td>1989</td>\n",
       "      <td>125.0</td>\n",
       "      <td>5.705772</td>\n",
       "      <td>44.0</td>\n",
       "      <td>5.858696</td>\n",
       "      <td>6.215022</td>\n",
       "      <td>5.800000</td>\n",
       "      <td>5.842035</td>\n",
       "    </tr>\n",
       "    <tr>\n",
       "      <th>15504</th>\n",
       "      <td>1988</td>\n",
       "      <td>NaN</td>\n",
       "      <td>5.383161</td>\n",
       "      <td>11.0</td>\n",
       "      <td>4.613504</td>\n",
       "      <td>5.907224</td>\n",
       "      <td>4.678722</td>\n",
       "      <td>4.600000</td>\n",
       "    </tr>\n",
       "    <tr>\n",
       "      <th>15505</th>\n",
       "      <td>1999</td>\n",
       "      <td>129.0</td>\n",
       "      <td>5.609101</td>\n",
       "      <td>655.0</td>\n",
       "      <td>5.357618</td>\n",
       "      <td>5.638174</td>\n",
       "      <td>4.877928</td>\n",
       "      <td>5.702996</td>\n",
       "    </tr>\n",
       "    <tr>\n",
       "      <th>15508</th>\n",
       "      <td>1998</td>\n",
       "      <td>130.0</td>\n",
       "      <td>5.609101</td>\n",
       "      <td>20.0</td>\n",
       "      <td>4.986697</td>\n",
       "      <td>5.771331</td>\n",
       "      <td>5.601870</td>\n",
       "      <td>5.467982</td>\n",
       "    </tr>\n",
       "  </tbody>\n",
       "</table>\n",
       "<p>7559 rows × 8 columns</p>\n",
       "</div>"
      ],
      "text/plain": [
       "       Year  Duration     Genre   Votes  Director   Actor 1   Actor 2  \\\n",
       "1      2019     109.0  6.106610     8.0  7.000000  6.825632  7.000000   \n",
       "3      2019     110.0  5.752140    35.0  4.400000  5.569284  4.400000   \n",
       "5      1997     147.0  6.041448   827.0  5.563119  5.212804  5.799571   \n",
       "6      2005     142.0  6.370565  1086.0  7.236278  5.531866  5.894946   \n",
       "8      2012      82.0  5.644507   326.0  5.600000  5.600000  5.839763   \n",
       "...     ...       ...       ...     ...       ...       ...       ...   \n",
       "15501  1992       NaN  5.705772   135.0  5.610877  5.771331  5.998089   \n",
       "15503  1989     125.0  5.705772    44.0  5.858696  6.215022  5.800000   \n",
       "15504  1988       NaN  5.383161    11.0  4.613504  5.907224  4.678722   \n",
       "15505  1999     129.0  5.609101   655.0  5.357618  5.638174  4.877928   \n",
       "15508  1998     130.0  5.609101    20.0  4.986697  5.771331  5.601870   \n",
       "\n",
       "        Actor 3  \n",
       "1      7.000000  \n",
       "3      4.453624  \n",
       "5      5.787568  \n",
       "6      6.164453  \n",
       "8      5.600000  \n",
       "...         ...  \n",
       "15501  5.148281  \n",
       "15503  5.842035  \n",
       "15504  4.600000  \n",
       "15505  5.702996  \n",
       "15508  5.467982  \n",
       "\n",
       "[7559 rows x 8 columns]"
      ]
     },
     "execution_count": 289,
     "metadata": {},
     "output_type": "execute_result"
    }
   ],
   "source": [
    "X"
   ]
  },
  {
   "cell_type": "code",
   "execution_count": 290,
   "id": "cf7eec94-68b5-4bda-baeb-1e017b7f1614",
   "metadata": {},
   "outputs": [],
   "source": [
    "#normalizing data using Robust scaler\n",
    "from sklearn.preprocessing import RobustScaler\n",
    "scaler = RobustScaler()\n",
    "scaler.fit(X)\n",
    "X.loc[:,:] = scaler.transform(X.loc[:,:])"
   ]
  },
  {
   "cell_type": "code",
   "execution_count": 291,
   "id": "a95534d3-9632-4513-8ac5-4386baabbc19",
   "metadata": {},
   "outputs": [
    {
     "data": {
      "text/html": [
       "<div>\n",
       "<style scoped>\n",
       "    .dataframe tbody tr th:only-of-type {\n",
       "        vertical-align: middle;\n",
       "    }\n",
       "\n",
       "    .dataframe tbody tr th {\n",
       "        vertical-align: top;\n",
       "    }\n",
       "\n",
       "    .dataframe thead th {\n",
       "        text-align: right;\n",
       "    }\n",
       "</style>\n",
       "<table border=\"1\" class=\"dataframe\">\n",
       "  <thead>\n",
       "    <tr style=\"text-align: right;\">\n",
       "      <th></th>\n",
       "      <th>Year</th>\n",
       "      <th>Duration</th>\n",
       "      <th>Genre</th>\n",
       "      <th>Votes</th>\n",
       "      <th>Director</th>\n",
       "      <th>Actor 1</th>\n",
       "      <th>Actor 2</th>\n",
       "      <th>Actor 3</th>\n",
       "    </tr>\n",
       "  </thead>\n",
       "  <tbody>\n",
       "    <tr>\n",
       "      <th>1</th>\n",
       "      <td>0.741935</td>\n",
       "      <td>-0.838710</td>\n",
       "      <td>0.678591</td>\n",
       "      <td>-0.121005</td>\n",
       "      <td>1.160388</td>\n",
       "      <td>1.198991</td>\n",
       "      <td>1.415744</td>\n",
       "      <td>1.396118</td>\n",
       "    </tr>\n",
       "    <tr>\n",
       "      <th>3</th>\n",
       "      <td>0.741935</td>\n",
       "      <td>-0.806452</td>\n",
       "      <td>-0.050020</td>\n",
       "      <td>-0.059361</td>\n",
       "      <td>-1.438452</td>\n",
       "      <td>-0.369234</td>\n",
       "      <td>-1.778346</td>\n",
       "      <td>-1.715340</td>\n",
       "    </tr>\n",
       "    <tr>\n",
       "      <th>5</th>\n",
       "      <td>0.032258</td>\n",
       "      <td>0.387097</td>\n",
       "      <td>0.544649</td>\n",
       "      <td>1.748858</td>\n",
       "      <td>-0.275853</td>\n",
       "      <td>-0.814207</td>\n",
       "      <td>-0.058979</td>\n",
       "      <td>-0.085373</td>\n",
       "    </tr>\n",
       "    <tr>\n",
       "      <th>6</th>\n",
       "      <td>0.290323</td>\n",
       "      <td>0.225806</td>\n",
       "      <td>1.221148</td>\n",
       "      <td>2.340183</td>\n",
       "      <td>1.396560</td>\n",
       "      <td>-0.415941</td>\n",
       "      <td>0.058189</td>\n",
       "      <td>0.375149</td>\n",
       "    </tr>\n",
       "    <tr>\n",
       "      <th>8</th>\n",
       "      <td>0.516129</td>\n",
       "      <td>-1.709677</td>\n",
       "      <td>-0.271260</td>\n",
       "      <td>0.605023</td>\n",
       "      <td>-0.238988</td>\n",
       "      <td>-0.330893</td>\n",
       "      <td>-0.009602</td>\n",
       "      <td>-0.314565</td>\n",
       "    </tr>\n",
       "    <tr>\n",
       "      <th>...</th>\n",
       "      <td>...</td>\n",
       "      <td>...</td>\n",
       "      <td>...</td>\n",
       "      <td>...</td>\n",
       "      <td>...</td>\n",
       "      <td>...</td>\n",
       "      <td>...</td>\n",
       "      <td>...</td>\n",
       "    </tr>\n",
       "    <tr>\n",
       "      <th>15501</th>\n",
       "      <td>-0.129032</td>\n",
       "      <td>NaN</td>\n",
       "      <td>-0.145331</td>\n",
       "      <td>0.168950</td>\n",
       "      <td>-0.228115</td>\n",
       "      <td>-0.117031</td>\n",
       "      <td>0.184900</td>\n",
       "      <td>-0.866527</td>\n",
       "    </tr>\n",
       "    <tr>\n",
       "      <th>15503</th>\n",
       "      <td>-0.225806</td>\n",
       "      <td>-0.322581</td>\n",
       "      <td>-0.145331</td>\n",
       "      <td>-0.038813</td>\n",
       "      <td>0.019593</td>\n",
       "      <td>0.436803</td>\n",
       "      <td>-0.058451</td>\n",
       "      <td>-0.018818</td>\n",
       "    </tr>\n",
       "    <tr>\n",
       "      <th>15504</th>\n",
       "      <td>-0.258065</td>\n",
       "      <td>NaN</td>\n",
       "      <td>-0.808454</td>\n",
       "      <td>-0.114155</td>\n",
       "      <td>-1.225044</td>\n",
       "      <td>0.052596</td>\n",
       "      <td>-1.435937</td>\n",
       "      <td>-1.536481</td>\n",
       "    </tr>\n",
       "    <tr>\n",
       "      <th>15505</th>\n",
       "      <td>0.096774</td>\n",
       "      <td>-0.193548</td>\n",
       "      <td>-0.344037</td>\n",
       "      <td>1.356164</td>\n",
       "      <td>-0.481262</td>\n",
       "      <td>-0.283243</td>\n",
       "      <td>-1.191214</td>\n",
       "      <td>-0.188712</td>\n",
       "    </tr>\n",
       "    <tr>\n",
       "      <th>15508</th>\n",
       "      <td>0.064516</td>\n",
       "      <td>-0.161290</td>\n",
       "      <td>-0.344037</td>\n",
       "      <td>-0.093607</td>\n",
       "      <td>-0.852017</td>\n",
       "      <td>-0.117031</td>\n",
       "      <td>-0.301854</td>\n",
       "      <td>-0.475880</td>\n",
       "    </tr>\n",
       "  </tbody>\n",
       "</table>\n",
       "<p>7559 rows × 8 columns</p>\n",
       "</div>"
      ],
      "text/plain": [
       "           Year  Duration     Genre     Votes  Director   Actor 1   Actor 2  \\\n",
       "1      0.741935 -0.838710  0.678591 -0.121005  1.160388  1.198991  1.415744   \n",
       "3      0.741935 -0.806452 -0.050020 -0.059361 -1.438452 -0.369234 -1.778346   \n",
       "5      0.032258  0.387097  0.544649  1.748858 -0.275853 -0.814207 -0.058979   \n",
       "6      0.290323  0.225806  1.221148  2.340183  1.396560 -0.415941  0.058189   \n",
       "8      0.516129 -1.709677 -0.271260  0.605023 -0.238988 -0.330893 -0.009602   \n",
       "...         ...       ...       ...       ...       ...       ...       ...   \n",
       "15501 -0.129032       NaN -0.145331  0.168950 -0.228115 -0.117031  0.184900   \n",
       "15503 -0.225806 -0.322581 -0.145331 -0.038813  0.019593  0.436803 -0.058451   \n",
       "15504 -0.258065       NaN -0.808454 -0.114155 -1.225044  0.052596 -1.435937   \n",
       "15505  0.096774 -0.193548 -0.344037  1.356164 -0.481262 -0.283243 -1.191214   \n",
       "15508  0.064516 -0.161290 -0.344037 -0.093607 -0.852017 -0.117031 -0.301854   \n",
       "\n",
       "        Actor 3  \n",
       "1      1.396118  \n",
       "3     -1.715340  \n",
       "5     -0.085373  \n",
       "6      0.375149  \n",
       "8     -0.314565  \n",
       "...         ...  \n",
       "15501 -0.866527  \n",
       "15503 -0.018818  \n",
       "15504 -1.536481  \n",
       "15505 -0.188712  \n",
       "15508 -0.475880  \n",
       "\n",
       "[7559 rows x 8 columns]"
      ]
     },
     "execution_count": 291,
     "metadata": {},
     "output_type": "execute_result"
    }
   ],
   "source": [
    "X"
   ]
  },
  {
   "cell_type": "code",
   "execution_count": 292,
   "id": "439b3443-c520-4c5a-bfdb-055f082da4f4",
   "metadata": {},
   "outputs": [
    {
     "name": "stdout",
     "output_type": "stream",
     "text": [
      "Requirement already satisfied: xgboost in c:\\users\\elitebook\\anaconda3\\lib\\site-packages (2.1.0)\n",
      "Requirement already satisfied: numpy in c:\\users\\elitebook\\anaconda3\\lib\\site-packages (from xgboost) (1.26.4)\n",
      "Requirement already satisfied: scipy in c:\\users\\elitebook\\anaconda3\\lib\\site-packages (from xgboost) (1.13.1)\n"
     ]
    }
   ],
   "source": [
    "!pip install xgboost"
   ]
  },
  {
   "cell_type": "code",
   "execution_count": 293,
   "id": "16bc8315-c50b-4f48-883d-14b12ccaf726",
   "metadata": {},
   "outputs": [],
   "source": [
    "from sklearn.model_selection import train_test_split\n",
    "X_train,X_test,y_train,y_test = train_test_split(X,y,test_size=0.2,random_state=12,shuffle=True)"
   ]
  },
  {
   "cell_type": "code",
   "execution_count": 294,
   "id": "bf5e4cfd-9a4e-49e9-a963-6b066e29a1fe",
   "metadata": {},
   "outputs": [],
   "source": [
    "from xgboost import XGBRegressor\n",
    "from sklearn.metrics import r2_score, mean_squared_error\n",
    "\n",
    "# initialize\n",
    "xgb_model = XGBRegressor(objective='reg:squarederror', gamma=0.09, learning_rate=0.08, subsample=0.7)"
   ]
  },
  {
   "cell_type": "code",
   "execution_count": 295,
   "id": "85fb3e9c-7ce6-4dbd-96b7-d7a8435d730e",
   "metadata": {},
   "outputs": [
    {
     "data": {
      "text/html": [
       "<style>#sk-container-id-2 {\n",
       "  /* Definition of color scheme common for light and dark mode */\n",
       "  --sklearn-color-text: black;\n",
       "  --sklearn-color-line: gray;\n",
       "  /* Definition of color scheme for unfitted estimators */\n",
       "  --sklearn-color-unfitted-level-0: #fff5e6;\n",
       "  --sklearn-color-unfitted-level-1: #f6e4d2;\n",
       "  --sklearn-color-unfitted-level-2: #ffe0b3;\n",
       "  --sklearn-color-unfitted-level-3: chocolate;\n",
       "  /* Definition of color scheme for fitted estimators */\n",
       "  --sklearn-color-fitted-level-0: #f0f8ff;\n",
       "  --sklearn-color-fitted-level-1: #d4ebff;\n",
       "  --sklearn-color-fitted-level-2: #b3dbfd;\n",
       "  --sklearn-color-fitted-level-3: cornflowerblue;\n",
       "\n",
       "  /* Specific color for light theme */\n",
       "  --sklearn-color-text-on-default-background: var(--sg-text-color, var(--theme-code-foreground, var(--jp-content-font-color1, black)));\n",
       "  --sklearn-color-background: var(--sg-background-color, var(--theme-background, var(--jp-layout-color0, white)));\n",
       "  --sklearn-color-border-box: var(--sg-text-color, var(--theme-code-foreground, var(--jp-content-font-color1, black)));\n",
       "  --sklearn-color-icon: #696969;\n",
       "\n",
       "  @media (prefers-color-scheme: dark) {\n",
       "    /* Redefinition of color scheme for dark theme */\n",
       "    --sklearn-color-text-on-default-background: var(--sg-text-color, var(--theme-code-foreground, var(--jp-content-font-color1, white)));\n",
       "    --sklearn-color-background: var(--sg-background-color, var(--theme-background, var(--jp-layout-color0, #111)));\n",
       "    --sklearn-color-border-box: var(--sg-text-color, var(--theme-code-foreground, var(--jp-content-font-color1, white)));\n",
       "    --sklearn-color-icon: #878787;\n",
       "  }\n",
       "}\n",
       "\n",
       "#sk-container-id-2 {\n",
       "  color: var(--sklearn-color-text);\n",
       "}\n",
       "\n",
       "#sk-container-id-2 pre {\n",
       "  padding: 0;\n",
       "}\n",
       "\n",
       "#sk-container-id-2 input.sk-hidden--visually {\n",
       "  border: 0;\n",
       "  clip: rect(1px 1px 1px 1px);\n",
       "  clip: rect(1px, 1px, 1px, 1px);\n",
       "  height: 1px;\n",
       "  margin: -1px;\n",
       "  overflow: hidden;\n",
       "  padding: 0;\n",
       "  position: absolute;\n",
       "  width: 1px;\n",
       "}\n",
       "\n",
       "#sk-container-id-2 div.sk-dashed-wrapped {\n",
       "  border: 1px dashed var(--sklearn-color-line);\n",
       "  margin: 0 0.4em 0.5em 0.4em;\n",
       "  box-sizing: border-box;\n",
       "  padding-bottom: 0.4em;\n",
       "  background-color: var(--sklearn-color-background);\n",
       "}\n",
       "\n",
       "#sk-container-id-2 div.sk-container {\n",
       "  /* jupyter's `normalize.less` sets `[hidden] { display: none; }`\n",
       "     but bootstrap.min.css set `[hidden] { display: none !important; }`\n",
       "     so we also need the `!important` here to be able to override the\n",
       "     default hidden behavior on the sphinx rendered scikit-learn.org.\n",
       "     See: https://github.com/scikit-learn/scikit-learn/issues/21755 */\n",
       "  display: inline-block !important;\n",
       "  position: relative;\n",
       "}\n",
       "\n",
       "#sk-container-id-2 div.sk-text-repr-fallback {\n",
       "  display: none;\n",
       "}\n",
       "\n",
       "div.sk-parallel-item,\n",
       "div.sk-serial,\n",
       "div.sk-item {\n",
       "  /* draw centered vertical line to link estimators */\n",
       "  background-image: linear-gradient(var(--sklearn-color-text-on-default-background), var(--sklearn-color-text-on-default-background));\n",
       "  background-size: 2px 100%;\n",
       "  background-repeat: no-repeat;\n",
       "  background-position: center center;\n",
       "}\n",
       "\n",
       "/* Parallel-specific style estimator block */\n",
       "\n",
       "#sk-container-id-2 div.sk-parallel-item::after {\n",
       "  content: \"\";\n",
       "  width: 100%;\n",
       "  border-bottom: 2px solid var(--sklearn-color-text-on-default-background);\n",
       "  flex-grow: 1;\n",
       "}\n",
       "\n",
       "#sk-container-id-2 div.sk-parallel {\n",
       "  display: flex;\n",
       "  align-items: stretch;\n",
       "  justify-content: center;\n",
       "  background-color: var(--sklearn-color-background);\n",
       "  position: relative;\n",
       "}\n",
       "\n",
       "#sk-container-id-2 div.sk-parallel-item {\n",
       "  display: flex;\n",
       "  flex-direction: column;\n",
       "}\n",
       "\n",
       "#sk-container-id-2 div.sk-parallel-item:first-child::after {\n",
       "  align-self: flex-end;\n",
       "  width: 50%;\n",
       "}\n",
       "\n",
       "#sk-container-id-2 div.sk-parallel-item:last-child::after {\n",
       "  align-self: flex-start;\n",
       "  width: 50%;\n",
       "}\n",
       "\n",
       "#sk-container-id-2 div.sk-parallel-item:only-child::after {\n",
       "  width: 0;\n",
       "}\n",
       "\n",
       "/* Serial-specific style estimator block */\n",
       "\n",
       "#sk-container-id-2 div.sk-serial {\n",
       "  display: flex;\n",
       "  flex-direction: column;\n",
       "  align-items: center;\n",
       "  background-color: var(--sklearn-color-background);\n",
       "  padding-right: 1em;\n",
       "  padding-left: 1em;\n",
       "}\n",
       "\n",
       "\n",
       "/* Toggleable style: style used for estimator/Pipeline/ColumnTransformer box that is\n",
       "clickable and can be expanded/collapsed.\n",
       "- Pipeline and ColumnTransformer use this feature and define the default style\n",
       "- Estimators will overwrite some part of the style using the `sk-estimator` class\n",
       "*/\n",
       "\n",
       "/* Pipeline and ColumnTransformer style (default) */\n",
       "\n",
       "#sk-container-id-2 div.sk-toggleable {\n",
       "  /* Default theme specific background. It is overwritten whether we have a\n",
       "  specific estimator or a Pipeline/ColumnTransformer */\n",
       "  background-color: var(--sklearn-color-background);\n",
       "}\n",
       "\n",
       "/* Toggleable label */\n",
       "#sk-container-id-2 label.sk-toggleable__label {\n",
       "  cursor: pointer;\n",
       "  display: block;\n",
       "  width: 100%;\n",
       "  margin-bottom: 0;\n",
       "  padding: 0.5em;\n",
       "  box-sizing: border-box;\n",
       "  text-align: center;\n",
       "}\n",
       "\n",
       "#sk-container-id-2 label.sk-toggleable__label-arrow:before {\n",
       "  /* Arrow on the left of the label */\n",
       "  content: \"▸\";\n",
       "  float: left;\n",
       "  margin-right: 0.25em;\n",
       "  color: var(--sklearn-color-icon);\n",
       "}\n",
       "\n",
       "#sk-container-id-2 label.sk-toggleable__label-arrow:hover:before {\n",
       "  color: var(--sklearn-color-text);\n",
       "}\n",
       "\n",
       "/* Toggleable content - dropdown */\n",
       "\n",
       "#sk-container-id-2 div.sk-toggleable__content {\n",
       "  max-height: 0;\n",
       "  max-width: 0;\n",
       "  overflow: hidden;\n",
       "  text-align: left;\n",
       "  /* unfitted */\n",
       "  background-color: var(--sklearn-color-unfitted-level-0);\n",
       "}\n",
       "\n",
       "#sk-container-id-2 div.sk-toggleable__content.fitted {\n",
       "  /* fitted */\n",
       "  background-color: var(--sklearn-color-fitted-level-0);\n",
       "}\n",
       "\n",
       "#sk-container-id-2 div.sk-toggleable__content pre {\n",
       "  margin: 0.2em;\n",
       "  border-radius: 0.25em;\n",
       "  color: var(--sklearn-color-text);\n",
       "  /* unfitted */\n",
       "  background-color: var(--sklearn-color-unfitted-level-0);\n",
       "}\n",
       "\n",
       "#sk-container-id-2 div.sk-toggleable__content.fitted pre {\n",
       "  /* unfitted */\n",
       "  background-color: var(--sklearn-color-fitted-level-0);\n",
       "}\n",
       "\n",
       "#sk-container-id-2 input.sk-toggleable__control:checked~div.sk-toggleable__content {\n",
       "  /* Expand drop-down */\n",
       "  max-height: 200px;\n",
       "  max-width: 100%;\n",
       "  overflow: auto;\n",
       "}\n",
       "\n",
       "#sk-container-id-2 input.sk-toggleable__control:checked~label.sk-toggleable__label-arrow:before {\n",
       "  content: \"▾\";\n",
       "}\n",
       "\n",
       "/* Pipeline/ColumnTransformer-specific style */\n",
       "\n",
       "#sk-container-id-2 div.sk-label input.sk-toggleable__control:checked~label.sk-toggleable__label {\n",
       "  color: var(--sklearn-color-text);\n",
       "  background-color: var(--sklearn-color-unfitted-level-2);\n",
       "}\n",
       "\n",
       "#sk-container-id-2 div.sk-label.fitted input.sk-toggleable__control:checked~label.sk-toggleable__label {\n",
       "  background-color: var(--sklearn-color-fitted-level-2);\n",
       "}\n",
       "\n",
       "/* Estimator-specific style */\n",
       "\n",
       "/* Colorize estimator box */\n",
       "#sk-container-id-2 div.sk-estimator input.sk-toggleable__control:checked~label.sk-toggleable__label {\n",
       "  /* unfitted */\n",
       "  background-color: var(--sklearn-color-unfitted-level-2);\n",
       "}\n",
       "\n",
       "#sk-container-id-2 div.sk-estimator.fitted input.sk-toggleable__control:checked~label.sk-toggleable__label {\n",
       "  /* fitted */\n",
       "  background-color: var(--sklearn-color-fitted-level-2);\n",
       "}\n",
       "\n",
       "#sk-container-id-2 div.sk-label label.sk-toggleable__label,\n",
       "#sk-container-id-2 div.sk-label label {\n",
       "  /* The background is the default theme color */\n",
       "  color: var(--sklearn-color-text-on-default-background);\n",
       "}\n",
       "\n",
       "/* On hover, darken the color of the background */\n",
       "#sk-container-id-2 div.sk-label:hover label.sk-toggleable__label {\n",
       "  color: var(--sklearn-color-text);\n",
       "  background-color: var(--sklearn-color-unfitted-level-2);\n",
       "}\n",
       "\n",
       "/* Label box, darken color on hover, fitted */\n",
       "#sk-container-id-2 div.sk-label.fitted:hover label.sk-toggleable__label.fitted {\n",
       "  color: var(--sklearn-color-text);\n",
       "  background-color: var(--sklearn-color-fitted-level-2);\n",
       "}\n",
       "\n",
       "/* Estimator label */\n",
       "\n",
       "#sk-container-id-2 div.sk-label label {\n",
       "  font-family: monospace;\n",
       "  font-weight: bold;\n",
       "  display: inline-block;\n",
       "  line-height: 1.2em;\n",
       "}\n",
       "\n",
       "#sk-container-id-2 div.sk-label-container {\n",
       "  text-align: center;\n",
       "}\n",
       "\n",
       "/* Estimator-specific */\n",
       "#sk-container-id-2 div.sk-estimator {\n",
       "  font-family: monospace;\n",
       "  border: 1px dotted var(--sklearn-color-border-box);\n",
       "  border-radius: 0.25em;\n",
       "  box-sizing: border-box;\n",
       "  margin-bottom: 0.5em;\n",
       "  /* unfitted */\n",
       "  background-color: var(--sklearn-color-unfitted-level-0);\n",
       "}\n",
       "\n",
       "#sk-container-id-2 div.sk-estimator.fitted {\n",
       "  /* fitted */\n",
       "  background-color: var(--sklearn-color-fitted-level-0);\n",
       "}\n",
       "\n",
       "/* on hover */\n",
       "#sk-container-id-2 div.sk-estimator:hover {\n",
       "  /* unfitted */\n",
       "  background-color: var(--sklearn-color-unfitted-level-2);\n",
       "}\n",
       "\n",
       "#sk-container-id-2 div.sk-estimator.fitted:hover {\n",
       "  /* fitted */\n",
       "  background-color: var(--sklearn-color-fitted-level-2);\n",
       "}\n",
       "\n",
       "/* Specification for estimator info (e.g. \"i\" and \"?\") */\n",
       "\n",
       "/* Common style for \"i\" and \"?\" */\n",
       "\n",
       ".sk-estimator-doc-link,\n",
       "a:link.sk-estimator-doc-link,\n",
       "a:visited.sk-estimator-doc-link {\n",
       "  float: right;\n",
       "  font-size: smaller;\n",
       "  line-height: 1em;\n",
       "  font-family: monospace;\n",
       "  background-color: var(--sklearn-color-background);\n",
       "  border-radius: 1em;\n",
       "  height: 1em;\n",
       "  width: 1em;\n",
       "  text-decoration: none !important;\n",
       "  margin-left: 1ex;\n",
       "  /* unfitted */\n",
       "  border: var(--sklearn-color-unfitted-level-1) 1pt solid;\n",
       "  color: var(--sklearn-color-unfitted-level-1);\n",
       "}\n",
       "\n",
       ".sk-estimator-doc-link.fitted,\n",
       "a:link.sk-estimator-doc-link.fitted,\n",
       "a:visited.sk-estimator-doc-link.fitted {\n",
       "  /* fitted */\n",
       "  border: var(--sklearn-color-fitted-level-1) 1pt solid;\n",
       "  color: var(--sklearn-color-fitted-level-1);\n",
       "}\n",
       "\n",
       "/* On hover */\n",
       "div.sk-estimator:hover .sk-estimator-doc-link:hover,\n",
       ".sk-estimator-doc-link:hover,\n",
       "div.sk-label-container:hover .sk-estimator-doc-link:hover,\n",
       ".sk-estimator-doc-link:hover {\n",
       "  /* unfitted */\n",
       "  background-color: var(--sklearn-color-unfitted-level-3);\n",
       "  color: var(--sklearn-color-background);\n",
       "  text-decoration: none;\n",
       "}\n",
       "\n",
       "div.sk-estimator.fitted:hover .sk-estimator-doc-link.fitted:hover,\n",
       ".sk-estimator-doc-link.fitted:hover,\n",
       "div.sk-label-container:hover .sk-estimator-doc-link.fitted:hover,\n",
       ".sk-estimator-doc-link.fitted:hover {\n",
       "  /* fitted */\n",
       "  background-color: var(--sklearn-color-fitted-level-3);\n",
       "  color: var(--sklearn-color-background);\n",
       "  text-decoration: none;\n",
       "}\n",
       "\n",
       "/* Span, style for the box shown on hovering the info icon */\n",
       ".sk-estimator-doc-link span {\n",
       "  display: none;\n",
       "  z-index: 9999;\n",
       "  position: relative;\n",
       "  font-weight: normal;\n",
       "  right: .2ex;\n",
       "  padding: .5ex;\n",
       "  margin: .5ex;\n",
       "  width: min-content;\n",
       "  min-width: 20ex;\n",
       "  max-width: 50ex;\n",
       "  color: var(--sklearn-color-text);\n",
       "  box-shadow: 2pt 2pt 4pt #999;\n",
       "  /* unfitted */\n",
       "  background: var(--sklearn-color-unfitted-level-0);\n",
       "  border: .5pt solid var(--sklearn-color-unfitted-level-3);\n",
       "}\n",
       "\n",
       ".sk-estimator-doc-link.fitted span {\n",
       "  /* fitted */\n",
       "  background: var(--sklearn-color-fitted-level-0);\n",
       "  border: var(--sklearn-color-fitted-level-3);\n",
       "}\n",
       "\n",
       ".sk-estimator-doc-link:hover span {\n",
       "  display: block;\n",
       "}\n",
       "\n",
       "/* \"?\"-specific style due to the `<a>` HTML tag */\n",
       "\n",
       "#sk-container-id-2 a.estimator_doc_link {\n",
       "  float: right;\n",
       "  font-size: 1rem;\n",
       "  line-height: 1em;\n",
       "  font-family: monospace;\n",
       "  background-color: var(--sklearn-color-background);\n",
       "  border-radius: 1rem;\n",
       "  height: 1rem;\n",
       "  width: 1rem;\n",
       "  text-decoration: none;\n",
       "  /* unfitted */\n",
       "  color: var(--sklearn-color-unfitted-level-1);\n",
       "  border: var(--sklearn-color-unfitted-level-1) 1pt solid;\n",
       "}\n",
       "\n",
       "#sk-container-id-2 a.estimator_doc_link.fitted {\n",
       "  /* fitted */\n",
       "  border: var(--sklearn-color-fitted-level-1) 1pt solid;\n",
       "  color: var(--sklearn-color-fitted-level-1);\n",
       "}\n",
       "\n",
       "/* On hover */\n",
       "#sk-container-id-2 a.estimator_doc_link:hover {\n",
       "  /* unfitted */\n",
       "  background-color: var(--sklearn-color-unfitted-level-3);\n",
       "  color: var(--sklearn-color-background);\n",
       "  text-decoration: none;\n",
       "}\n",
       "\n",
       "#sk-container-id-2 a.estimator_doc_link.fitted:hover {\n",
       "  /* fitted */\n",
       "  background-color: var(--sklearn-color-fitted-level-3);\n",
       "}\n",
       "</style><div id=\"sk-container-id-2\" class=\"sk-top-container\"><div class=\"sk-text-repr-fallback\"><pre>XGBRegressor(base_score=None, booster=None, callbacks=None,\n",
       "             colsample_bylevel=None, colsample_bynode=None,\n",
       "             colsample_bytree=None, device=None, early_stopping_rounds=None,\n",
       "             enable_categorical=False, eval_metric=None, feature_types=None,\n",
       "             gamma=0.09, grow_policy=None, importance_type=None,\n",
       "             interaction_constraints=None, learning_rate=0.08, max_bin=None,\n",
       "             max_cat_threshold=None, max_cat_to_onehot=None,\n",
       "             max_delta_step=None, max_depth=None, max_leaves=None,\n",
       "             min_child_weight=None, missing=nan, monotone_constraints=None,\n",
       "             multi_strategy=None, n_estimators=None, n_jobs=None,\n",
       "             num_parallel_tree=None, random_state=None, ...)</pre><b>In a Jupyter environment, please rerun this cell to show the HTML representation or trust the notebook. <br />On GitHub, the HTML representation is unable to render, please try loading this page with nbviewer.org.</b></div><div class=\"sk-container\" hidden><div class=\"sk-item\"><div class=\"sk-estimator fitted sk-toggleable\"><input class=\"sk-toggleable__control sk-hidden--visually\" id=\"sk-estimator-id-2\" type=\"checkbox\" checked><label for=\"sk-estimator-id-2\" class=\"sk-toggleable__label fitted sk-toggleable__label-arrow fitted\">&nbsp;XGBRegressor<span class=\"sk-estimator-doc-link fitted\">i<span>Fitted</span></span></label><div class=\"sk-toggleable__content fitted\"><pre>XGBRegressor(base_score=None, booster=None, callbacks=None,\n",
       "             colsample_bylevel=None, colsample_bynode=None,\n",
       "             colsample_bytree=None, device=None, early_stopping_rounds=None,\n",
       "             enable_categorical=False, eval_metric=None, feature_types=None,\n",
       "             gamma=0.09, grow_policy=None, importance_type=None,\n",
       "             interaction_constraints=None, learning_rate=0.08, max_bin=None,\n",
       "             max_cat_threshold=None, max_cat_to_onehot=None,\n",
       "             max_delta_step=None, max_depth=None, max_leaves=None,\n",
       "             min_child_weight=None, missing=nan, monotone_constraints=None,\n",
       "             multi_strategy=None, n_estimators=None, n_jobs=None,\n",
       "             num_parallel_tree=None, random_state=None, ...)</pre></div> </div></div></div></div>"
      ],
      "text/plain": [
       "XGBRegressor(base_score=None, booster=None, callbacks=None,\n",
       "             colsample_bylevel=None, colsample_bynode=None,\n",
       "             colsample_bytree=None, device=None, early_stopping_rounds=None,\n",
       "             enable_categorical=False, eval_metric=None, feature_types=None,\n",
       "             gamma=0.09, grow_policy=None, importance_type=None,\n",
       "             interaction_constraints=None, learning_rate=0.08, max_bin=None,\n",
       "             max_cat_threshold=None, max_cat_to_onehot=None,\n",
       "             max_delta_step=None, max_depth=None, max_leaves=None,\n",
       "             min_child_weight=None, missing=nan, monotone_constraints=None,\n",
       "             multi_strategy=None, n_estimators=None, n_jobs=None,\n",
       "             num_parallel_tree=None, random_state=None, ...)"
      ]
     },
     "execution_count": 295,
     "metadata": {},
     "output_type": "execute_result"
    }
   ],
   "source": [
    "xgb_model.fit(X_train,y_train)"
   ]
  },
  {
   "cell_type": "code",
   "execution_count": 296,
   "id": "dd4838af-2fa7-4e65-a518-ecbd73fe48e5",
   "metadata": {},
   "outputs": [
    {
     "data": {
      "text/plain": [
       "0.9007091886687817"
      ]
     },
     "execution_count": 296,
     "metadata": {},
     "output_type": "execute_result"
    }
   ],
   "source": [
    "xgb_model.score(X_train,y_train)"
   ]
  },
  {
   "cell_type": "code",
   "execution_count": 297,
   "id": "4138afc5-38a7-4e69-bad4-985319a3c524",
   "metadata": {},
   "outputs": [
    {
     "data": {
      "text/plain": [
       "0.8395274823734544"
      ]
     },
     "execution_count": 297,
     "metadata": {},
     "output_type": "execute_result"
    }
   ],
   "source": [
    "xgb_model.score(X_test,y_test)"
   ]
  },
  {
   "cell_type": "code",
   "execution_count": 298,
   "id": "8ba06710-b2f1-44f4-96c7-5ed538665b15",
   "metadata": {},
   "outputs": [],
   "source": [
    "y_pred = xgb_model.predict(X_test)"
   ]
  },
  {
   "cell_type": "code",
   "execution_count": 299,
   "id": "7af0672f-ca04-46f9-9da9-8e1128a83e9d",
   "metadata": {},
   "outputs": [
    {
     "name": "stdout",
     "output_type": "stream",
     "text": [
      "XGBoost Model Report:\n",
      "R^2: 0.8395, RMSE: 0.54\n"
     ]
    }
   ],
   "source": [
    "# Calculate regression metrics\n",
    "def regression_results(y_true, y_pred):\n",
    "    r2 = r2_score(y_true, y_pred)\n",
    "    rmse = mean_squared_error(y_true, y_pred, squared=False)\n",
    "    return f\"R^2: {r2:.4f}, RMSE: {rmse:.2f}\"\n",
    "\n",
    "# the XGBoost model report\n",
    "print(\"XGBoost Model Report:\")\n",
    "print(regression_results(y_test, y_pred))"
   ]
  },
  {
   "cell_type": "code",
   "execution_count": 300,
   "id": "229de939-351a-436c-81dc-1b030c99e685",
   "metadata": {},
   "outputs": [
    {
     "name": "stdout",
     "output_type": "stream",
     "text": [
      "cross validation score for XGBoost:[0.83291404 0.82405006 0.82817808 0.84510056 0.84626571 0.85669864\n",
      " 0.81964298 0.8028544  0.79046343 0.85368245]\n",
      "average cross validation score for XGBoost:0.8299850349054442\n",
      "\n"
     ]
    }
   ],
   "source": [
    "from sklearn.model_selection import cross_val_score\n",
    "score = cross_val_score(xgb_model,X,y,cv=10)\n",
    "avg = np.mean(score)\n",
    "print(f\"cross validation score for XGBoost:{score}\")\n",
    "print(f\"average cross validation score for XGBoost:{avg}\\n\")"
   ]
  },
  {
   "cell_type": "code",
   "execution_count": null,
   "id": "40386314-5d4e-44dc-bf8c-3d58feff5ddf",
   "metadata": {},
   "outputs": [],
   "source": []
  },
  {
   "cell_type": "code",
   "execution_count": null,
   "id": "84475816-a5a8-45df-8acc-91821ee531a8",
   "metadata": {},
   "outputs": [],
   "source": []
  }
 ],
 "metadata": {
  "kernelspec": {
   "display_name": "Python 3 (ipykernel)",
   "language": "python",
   "name": "python3"
  },
  "language_info": {
   "codemirror_mode": {
    "name": "ipython",
    "version": 3
   },
   "file_extension": ".py",
   "mimetype": "text/x-python",
   "name": "python",
   "nbconvert_exporter": "python",
   "pygments_lexer": "ipython3",
   "version": "3.12.4"
  }
 },
 "nbformat": 4,
 "nbformat_minor": 5
}
